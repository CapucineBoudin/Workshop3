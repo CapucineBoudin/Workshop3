{
 "cells": [
  {
   "cell_type": "markdown",
   "id": "0df6a07b",
   "metadata": {},
   "source": [
    "<div class='alert-block alert-info'>\n",
    "    <br>\n",
    "    <h1 align=\"center\"><b>  Decentralization Technologies:</b> Workshop 3 </h1>\n",
    "    <h3 align=\"center\">CDOF2</h3>\n",
    "    <h5 align=\"center\">Etienne Goury - Capucine Boudin - Clément Caron </a></h5>\n",
    "    <br>\n",
    "</div>"
   ]
  },
  {
   "cell_type": "markdown",
   "id": "f2dc89be",
   "metadata": {},
   "source": [
    "Practical Exercise: From Local to Decentralized Computation\n",
    "Participants should form groups of 3 to 5 and select a simple dataset, such as Iris, Housing Market, or Titanic, \n",
    "for the following activities:\n",
    "\n",
    "Q1: Develop diverse predictive models targeting the selected dataset. \n",
    "Each group member should create a distinct model.\n",
    "💡 Basic flask app\n",
    "Evaluate the accuracy and performance of your model.\n",
    "Adapt your model for API access. This API should include a GET predict route that accepts model arguments and \n",
    "returns a prediction. Determine a standardized API response format within your group."
   ]
  },
  {
   "cell_type": "markdown",
   "id": "2b6d510a",
   "metadata": {},
   "source": [
    "<h2 style=\"color: #4a86e8; font-size: 28px; font-family: 'Georgia', serif; text-shadow: 2px 2px 4px rgba(0,0,0,0.3); margin-top: 20px; border-left: 5px solid #4a86e8; padding-left: 10px;\">I. Preprocessing</h2>"
   ]
  },
  {
   "cell_type": "markdown",
   "id": "3c3f5104",
   "metadata": {},
   "source": [
    "<h3 style=\"color: #4a86e8; font-size: 28px; font-family: 'Georgia', serif; text-shadow: 2px 2px 4px rgba(0,0,0,0.3); margin-top: 20px; border-left: 5px solid #4a86e8; padding-left: 10px;\">a. Librairies Import</h3>"
   ]
  },
  {
   "cell_type": "code",
   "execution_count": 1,
   "id": "1643f3dd",
   "metadata": {},
   "outputs": [
    {
     "name": "stdout",
     "output_type": "stream",
     "text": [
      "Requirement already satisfied: numpy in c:\\users\\hp\\anaconda3\\lib\\site-packages (1.26.4)Note: you may need to restart the kernel to use updated packages.\n",
      "\n"
     ]
    },
    {
     "name": "stderr",
     "output_type": "stream",
     "text": [
      "DEPRECATION: pyodbc 4.0.0-unsupported has a non-standard version number. pip 24.1 will enforce this behaviour change. A possible replacement is to upgrade to a newer version of pyodbc or contact the author to suggest that they release a version with a conforming version number. Discussion can be found at https://github.com/pypa/pip/issues/12063\n"
     ]
    }
   ],
   "source": [
    "pip install --upgrade numpy"
   ]
  },
  {
   "cell_type": "code",
   "execution_count": 19,
   "id": "02fb4cc9",
   "metadata": {},
   "outputs": [],
   "source": [
    "import seaborn as sns\n",
    "import pandas as pd\n",
    "import numpy as np\n",
    "from sklearn.model_selection import train_test_split\n",
    "from sklearn.linear_model import LinearRegression\n",
    "from sklearn.linear_model import LogisticRegression\n",
    "from sklearn.metrics import mean_squared_error\n",
    "from sklearn.metrics import accuracy_score"
   ]
  },
  {
   "cell_type": "markdown",
   "id": "da134b6e",
   "metadata": {},
   "source": [
    "<h3 style=\"color: #4a86e8; font-size: 28px; font-family: 'Georgia', serif; text-shadow: 2px 2px 4px rgba(0,0,0,0.3); margin-top: 20px; border-left: 5px solid #4a86e8; padding-left: 10px;\">b. Data Import</h3>"
   ]
  },
  {
   "cell_type": "code",
   "execution_count": 3,
   "id": "1ee0fde0",
   "metadata": {},
   "outputs": [],
   "source": [
    "df = sns.load_dataset('titanic')"
   ]
  },
  {
   "cell_type": "markdown",
   "id": "ed40dfe0",
   "metadata": {},
   "source": [
    "<h3 style=\"color: #4a86e8; font-size: 28px; font-family: 'Georgia', serif; text-shadow: 2px 2px 4px rgba(0,0,0,0.3); margin-top: 20px; border-left: 5px solid #4a86e8; padding-left: 10px;\">c. Data Preprocessing</h3>"
   ]
  },
  {
   "cell_type": "code",
   "execution_count": 4,
   "id": "6094017c",
   "metadata": {},
   "outputs": [
    {
     "data": {
      "text/plain": [
       "survived       0.000000\n",
       "pclass         0.000000\n",
       "sex            0.000000\n",
       "age            0.198653\n",
       "sibsp          0.000000\n",
       "parch          0.000000\n",
       "fare           0.000000\n",
       "embarked       0.002245\n",
       "class          0.000000\n",
       "who            0.000000\n",
       "adult_male     0.000000\n",
       "deck           0.772166\n",
       "embark_town    0.002245\n",
       "alive          0.000000\n",
       "alone          0.000000\n",
       "dtype: float64"
      ]
     },
     "execution_count": 4,
     "metadata": {},
     "output_type": "execute_result"
    }
   ],
   "source": [
    "df.isnull().sum()/len(df)"
   ]
  },
  {
   "cell_type": "code",
   "execution_count": 5,
   "id": "1abc12e5",
   "metadata": {},
   "outputs": [
    {
     "data": {
      "text/html": [
       "<div>\n",
       "<style scoped>\n",
       "    .dataframe tbody tr th:only-of-type {\n",
       "        vertical-align: middle;\n",
       "    }\n",
       "\n",
       "    .dataframe tbody tr th {\n",
       "        vertical-align: top;\n",
       "    }\n",
       "\n",
       "    .dataframe thead th {\n",
       "        text-align: right;\n",
       "    }\n",
       "</style>\n",
       "<table border=\"1\" class=\"dataframe\">\n",
       "  <thead>\n",
       "    <tr style=\"text-align: right;\">\n",
       "      <th></th>\n",
       "      <th>survived</th>\n",
       "      <th>pclass</th>\n",
       "      <th>sex</th>\n",
       "      <th>age</th>\n",
       "      <th>sibsp</th>\n",
       "      <th>parch</th>\n",
       "      <th>fare</th>\n",
       "      <th>embarked</th>\n",
       "      <th>alone</th>\n",
       "    </tr>\n",
       "  </thead>\n",
       "  <tbody>\n",
       "    <tr>\n",
       "      <th>0</th>\n",
       "      <td>0</td>\n",
       "      <td>3</td>\n",
       "      <td>male</td>\n",
       "      <td>22.0</td>\n",
       "      <td>1</td>\n",
       "      <td>0</td>\n",
       "      <td>7.2500</td>\n",
       "      <td>S</td>\n",
       "      <td>False</td>\n",
       "    </tr>\n",
       "    <tr>\n",
       "      <th>1</th>\n",
       "      <td>1</td>\n",
       "      <td>1</td>\n",
       "      <td>female</td>\n",
       "      <td>38.0</td>\n",
       "      <td>1</td>\n",
       "      <td>0</td>\n",
       "      <td>71.2833</td>\n",
       "      <td>C</td>\n",
       "      <td>False</td>\n",
       "    </tr>\n",
       "    <tr>\n",
       "      <th>2</th>\n",
       "      <td>1</td>\n",
       "      <td>3</td>\n",
       "      <td>female</td>\n",
       "      <td>26.0</td>\n",
       "      <td>0</td>\n",
       "      <td>0</td>\n",
       "      <td>7.9250</td>\n",
       "      <td>S</td>\n",
       "      <td>True</td>\n",
       "    </tr>\n",
       "    <tr>\n",
       "      <th>3</th>\n",
       "      <td>1</td>\n",
       "      <td>1</td>\n",
       "      <td>female</td>\n",
       "      <td>35.0</td>\n",
       "      <td>1</td>\n",
       "      <td>0</td>\n",
       "      <td>53.1000</td>\n",
       "      <td>S</td>\n",
       "      <td>False</td>\n",
       "    </tr>\n",
       "    <tr>\n",
       "      <th>4</th>\n",
       "      <td>0</td>\n",
       "      <td>3</td>\n",
       "      <td>male</td>\n",
       "      <td>35.0</td>\n",
       "      <td>0</td>\n",
       "      <td>0</td>\n",
       "      <td>8.0500</td>\n",
       "      <td>S</td>\n",
       "      <td>True</td>\n",
       "    </tr>\n",
       "    <tr>\n",
       "      <th>...</th>\n",
       "      <td>...</td>\n",
       "      <td>...</td>\n",
       "      <td>...</td>\n",
       "      <td>...</td>\n",
       "      <td>...</td>\n",
       "      <td>...</td>\n",
       "      <td>...</td>\n",
       "      <td>...</td>\n",
       "      <td>...</td>\n",
       "    </tr>\n",
       "    <tr>\n",
       "      <th>886</th>\n",
       "      <td>0</td>\n",
       "      <td>2</td>\n",
       "      <td>male</td>\n",
       "      <td>27.0</td>\n",
       "      <td>0</td>\n",
       "      <td>0</td>\n",
       "      <td>13.0000</td>\n",
       "      <td>S</td>\n",
       "      <td>True</td>\n",
       "    </tr>\n",
       "    <tr>\n",
       "      <th>887</th>\n",
       "      <td>1</td>\n",
       "      <td>1</td>\n",
       "      <td>female</td>\n",
       "      <td>19.0</td>\n",
       "      <td>0</td>\n",
       "      <td>0</td>\n",
       "      <td>30.0000</td>\n",
       "      <td>S</td>\n",
       "      <td>True</td>\n",
       "    </tr>\n",
       "    <tr>\n",
       "      <th>888</th>\n",
       "      <td>0</td>\n",
       "      <td>3</td>\n",
       "      <td>female</td>\n",
       "      <td>NaN</td>\n",
       "      <td>1</td>\n",
       "      <td>2</td>\n",
       "      <td>23.4500</td>\n",
       "      <td>S</td>\n",
       "      <td>False</td>\n",
       "    </tr>\n",
       "    <tr>\n",
       "      <th>889</th>\n",
       "      <td>1</td>\n",
       "      <td>1</td>\n",
       "      <td>male</td>\n",
       "      <td>26.0</td>\n",
       "      <td>0</td>\n",
       "      <td>0</td>\n",
       "      <td>30.0000</td>\n",
       "      <td>C</td>\n",
       "      <td>True</td>\n",
       "    </tr>\n",
       "    <tr>\n",
       "      <th>890</th>\n",
       "      <td>0</td>\n",
       "      <td>3</td>\n",
       "      <td>male</td>\n",
       "      <td>32.0</td>\n",
       "      <td>0</td>\n",
       "      <td>0</td>\n",
       "      <td>7.7500</td>\n",
       "      <td>Q</td>\n",
       "      <td>True</td>\n",
       "    </tr>\n",
       "  </tbody>\n",
       "</table>\n",
       "<p>891 rows × 9 columns</p>\n",
       "</div>"
      ],
      "text/plain": [
       "     survived  pclass     sex   age  sibsp  parch     fare embarked  alone\n",
       "0           0       3    male  22.0      1      0   7.2500        S  False\n",
       "1           1       1  female  38.0      1      0  71.2833        C  False\n",
       "2           1       3  female  26.0      0      0   7.9250        S   True\n",
       "3           1       1  female  35.0      1      0  53.1000        S  False\n",
       "4           0       3    male  35.0      0      0   8.0500        S   True\n",
       "..        ...     ...     ...   ...    ...    ...      ...      ...    ...\n",
       "886         0       2    male  27.0      0      0  13.0000        S   True\n",
       "887         1       1  female  19.0      0      0  30.0000        S   True\n",
       "888         0       3  female   NaN      1      2  23.4500        S  False\n",
       "889         1       1    male  26.0      0      0  30.0000        C   True\n",
       "890         0       3    male  32.0      0      0   7.7500        Q   True\n",
       "\n",
       "[891 rows x 9 columns]"
      ]
     },
     "execution_count": 5,
     "metadata": {},
     "output_type": "execute_result"
    }
   ],
   "source": [
    "df.drop(columns=['class','adult_male','alive', 'embark_town', 'who', 'deck'], inplace=True)\n",
    "df"
   ]
  },
  {
   "cell_type": "code",
   "execution_count": 6,
   "id": "0dc2b399",
   "metadata": {},
   "outputs": [
    {
     "data": {
      "text/plain": [
       "survived    0.000000\n",
       "pclass      0.000000\n",
       "sex         0.000000\n",
       "age         0.198653\n",
       "sibsp       0.000000\n",
       "parch       0.000000\n",
       "fare        0.000000\n",
       "embarked    0.002245\n",
       "alone       0.000000\n",
       "dtype: float64"
      ]
     },
     "execution_count": 6,
     "metadata": {},
     "output_type": "execute_result"
    }
   ],
   "source": [
    "df.isnull().sum()/len(df)"
   ]
  },
  {
   "cell_type": "code",
   "execution_count": 7,
   "id": "2073729d",
   "metadata": {},
   "outputs": [],
   "source": [
    "df.dropna(inplace=True)"
   ]
  },
  {
   "cell_type": "code",
   "execution_count": 8,
   "id": "6947beab",
   "metadata": {},
   "outputs": [],
   "source": [
    "#format data\n",
    "df['alone'] = df['alone'].apply(lambda x:1 if x else 0)\n",
    "df['sex'] = df['sex'].apply(lambda x:1 if x=='male' else 0)"
   ]
  },
  {
   "cell_type": "code",
   "execution_count": 9,
   "id": "bbf4b5a2",
   "metadata": {},
   "outputs": [
    {
     "data": {
      "text/html": [
       "<div>\n",
       "<style scoped>\n",
       "    .dataframe tbody tr th:only-of-type {\n",
       "        vertical-align: middle;\n",
       "    }\n",
       "\n",
       "    .dataframe tbody tr th {\n",
       "        vertical-align: top;\n",
       "    }\n",
       "\n",
       "    .dataframe thead th {\n",
       "        text-align: right;\n",
       "    }\n",
       "</style>\n",
       "<table border=\"1\" class=\"dataframe\">\n",
       "  <thead>\n",
       "    <tr style=\"text-align: right;\">\n",
       "      <th></th>\n",
       "      <th>survived</th>\n",
       "      <th>pclass</th>\n",
       "      <th>sex</th>\n",
       "      <th>age</th>\n",
       "      <th>sibsp</th>\n",
       "      <th>parch</th>\n",
       "      <th>fare</th>\n",
       "      <th>alone</th>\n",
       "      <th>C</th>\n",
       "      <th>Q</th>\n",
       "      <th>S</th>\n",
       "    </tr>\n",
       "  </thead>\n",
       "  <tbody>\n",
       "    <tr>\n",
       "      <th>0</th>\n",
       "      <td>0</td>\n",
       "      <td>3</td>\n",
       "      <td>1</td>\n",
       "      <td>22.0</td>\n",
       "      <td>1</td>\n",
       "      <td>0</td>\n",
       "      <td>7.2500</td>\n",
       "      <td>0</td>\n",
       "      <td>False</td>\n",
       "      <td>False</td>\n",
       "      <td>True</td>\n",
       "    </tr>\n",
       "    <tr>\n",
       "      <th>1</th>\n",
       "      <td>1</td>\n",
       "      <td>1</td>\n",
       "      <td>0</td>\n",
       "      <td>38.0</td>\n",
       "      <td>1</td>\n",
       "      <td>0</td>\n",
       "      <td>71.2833</td>\n",
       "      <td>0</td>\n",
       "      <td>True</td>\n",
       "      <td>False</td>\n",
       "      <td>False</td>\n",
       "    </tr>\n",
       "    <tr>\n",
       "      <th>2</th>\n",
       "      <td>1</td>\n",
       "      <td>3</td>\n",
       "      <td>0</td>\n",
       "      <td>26.0</td>\n",
       "      <td>0</td>\n",
       "      <td>0</td>\n",
       "      <td>7.9250</td>\n",
       "      <td>1</td>\n",
       "      <td>False</td>\n",
       "      <td>False</td>\n",
       "      <td>True</td>\n",
       "    </tr>\n",
       "    <tr>\n",
       "      <th>3</th>\n",
       "      <td>1</td>\n",
       "      <td>1</td>\n",
       "      <td>0</td>\n",
       "      <td>35.0</td>\n",
       "      <td>1</td>\n",
       "      <td>0</td>\n",
       "      <td>53.1000</td>\n",
       "      <td>0</td>\n",
       "      <td>False</td>\n",
       "      <td>False</td>\n",
       "      <td>True</td>\n",
       "    </tr>\n",
       "    <tr>\n",
       "      <th>4</th>\n",
       "      <td>0</td>\n",
       "      <td>3</td>\n",
       "      <td>1</td>\n",
       "      <td>35.0</td>\n",
       "      <td>0</td>\n",
       "      <td>0</td>\n",
       "      <td>8.0500</td>\n",
       "      <td>1</td>\n",
       "      <td>False</td>\n",
       "      <td>False</td>\n",
       "      <td>True</td>\n",
       "    </tr>\n",
       "    <tr>\n",
       "      <th>...</th>\n",
       "      <td>...</td>\n",
       "      <td>...</td>\n",
       "      <td>...</td>\n",
       "      <td>...</td>\n",
       "      <td>...</td>\n",
       "      <td>...</td>\n",
       "      <td>...</td>\n",
       "      <td>...</td>\n",
       "      <td>...</td>\n",
       "      <td>...</td>\n",
       "      <td>...</td>\n",
       "    </tr>\n",
       "    <tr>\n",
       "      <th>885</th>\n",
       "      <td>0</td>\n",
       "      <td>3</td>\n",
       "      <td>0</td>\n",
       "      <td>39.0</td>\n",
       "      <td>0</td>\n",
       "      <td>5</td>\n",
       "      <td>29.1250</td>\n",
       "      <td>0</td>\n",
       "      <td>False</td>\n",
       "      <td>True</td>\n",
       "      <td>False</td>\n",
       "    </tr>\n",
       "    <tr>\n",
       "      <th>886</th>\n",
       "      <td>0</td>\n",
       "      <td>2</td>\n",
       "      <td>1</td>\n",
       "      <td>27.0</td>\n",
       "      <td>0</td>\n",
       "      <td>0</td>\n",
       "      <td>13.0000</td>\n",
       "      <td>1</td>\n",
       "      <td>False</td>\n",
       "      <td>False</td>\n",
       "      <td>True</td>\n",
       "    </tr>\n",
       "    <tr>\n",
       "      <th>887</th>\n",
       "      <td>1</td>\n",
       "      <td>1</td>\n",
       "      <td>0</td>\n",
       "      <td>19.0</td>\n",
       "      <td>0</td>\n",
       "      <td>0</td>\n",
       "      <td>30.0000</td>\n",
       "      <td>1</td>\n",
       "      <td>False</td>\n",
       "      <td>False</td>\n",
       "      <td>True</td>\n",
       "    </tr>\n",
       "    <tr>\n",
       "      <th>889</th>\n",
       "      <td>1</td>\n",
       "      <td>1</td>\n",
       "      <td>1</td>\n",
       "      <td>26.0</td>\n",
       "      <td>0</td>\n",
       "      <td>0</td>\n",
       "      <td>30.0000</td>\n",
       "      <td>1</td>\n",
       "      <td>True</td>\n",
       "      <td>False</td>\n",
       "      <td>False</td>\n",
       "    </tr>\n",
       "    <tr>\n",
       "      <th>890</th>\n",
       "      <td>0</td>\n",
       "      <td>3</td>\n",
       "      <td>1</td>\n",
       "      <td>32.0</td>\n",
       "      <td>0</td>\n",
       "      <td>0</td>\n",
       "      <td>7.7500</td>\n",
       "      <td>1</td>\n",
       "      <td>False</td>\n",
       "      <td>True</td>\n",
       "      <td>False</td>\n",
       "    </tr>\n",
       "  </tbody>\n",
       "</table>\n",
       "<p>712 rows × 11 columns</p>\n",
       "</div>"
      ],
      "text/plain": [
       "     survived  pclass  sex   age  sibsp  parch     fare  alone      C      Q  \\\n",
       "0           0       3    1  22.0      1      0   7.2500      0  False  False   \n",
       "1           1       1    0  38.0      1      0  71.2833      0   True  False   \n",
       "2           1       3    0  26.0      0      0   7.9250      1  False  False   \n",
       "3           1       1    0  35.0      1      0  53.1000      0  False  False   \n",
       "4           0       3    1  35.0      0      0   8.0500      1  False  False   \n",
       "..        ...     ...  ...   ...    ...    ...      ...    ...    ...    ...   \n",
       "885         0       3    0  39.0      0      5  29.1250      0  False   True   \n",
       "886         0       2    1  27.0      0      0  13.0000      1  False  False   \n",
       "887         1       1    0  19.0      0      0  30.0000      1  False  False   \n",
       "889         1       1    1  26.0      0      0  30.0000      1   True  False   \n",
       "890         0       3    1  32.0      0      0   7.7500      1  False   True   \n",
       "\n",
       "         S  \n",
       "0     True  \n",
       "1    False  \n",
       "2     True  \n",
       "3     True  \n",
       "4     True  \n",
       "..     ...  \n",
       "885  False  \n",
       "886   True  \n",
       "887   True  \n",
       "889  False  \n",
       "890  False  \n",
       "\n",
       "[712 rows x 11 columns]"
      ]
     },
     "execution_count": 9,
     "metadata": {},
     "output_type": "execute_result"
    }
   ],
   "source": [
    "df = pd.concat([df.drop('embarked', axis=1),pd.get_dummies(df['embarked'])], axis=1)\n",
    "df"
   ]
  },
  {
   "cell_type": "code",
   "execution_count": 10,
   "id": "30367f79",
   "metadata": {},
   "outputs": [
    {
     "name": "stdout",
     "output_type": "stream",
     "text": [
      "<class 'pandas.core.frame.DataFrame'>\n",
      "Index: 712 entries, 0 to 890\n",
      "Data columns (total 11 columns):\n",
      " #   Column    Non-Null Count  Dtype  \n",
      "---  ------    --------------  -----  \n",
      " 0   survived  712 non-null    int64  \n",
      " 1   pclass    712 non-null    int64  \n",
      " 2   sex       712 non-null    int64  \n",
      " 3   age       712 non-null    float64\n",
      " 4   sibsp     712 non-null    int64  \n",
      " 5   parch     712 non-null    int64  \n",
      " 6   fare      712 non-null    float64\n",
      " 7   alone     712 non-null    int64  \n",
      " 8   C         712 non-null    bool   \n",
      " 9   Q         712 non-null    bool   \n",
      " 10  S         712 non-null    bool   \n",
      "dtypes: bool(3), float64(2), int64(6)\n",
      "memory usage: 52.1 KB\n"
     ]
    }
   ],
   "source": [
    "df.info()"
   ]
  },
  {
   "cell_type": "code",
   "execution_count": 11,
   "id": "ff2c5917",
   "metadata": {},
   "outputs": [
    {
     "data": {
      "text/plain": [
       "0.42"
      ]
     },
     "execution_count": 11,
     "metadata": {},
     "output_type": "execute_result"
    }
   ],
   "source": [
    "df['age'].min()"
   ]
  },
  {
   "cell_type": "markdown",
   "id": "264cf4f7",
   "metadata": {},
   "source": [
    "<h2 style=\"color: #4a86e8; font-size: 28px; font-family: 'Georgia', serif; text-shadow: 2px 2px 4px rgba(0,0,0,0.3); margin-top: 20px; border-left: 5px solid #4a86e8; padding-left: 10px;\">II. AI Models</h2>"
   ]
  },
  {
   "cell_type": "markdown",
   "id": "82e31cbf",
   "metadata": {},
   "source": [
    "<h3 style=\"color: #4a86e8; font-size: 28px; font-family: 'Georgia', serif; text-shadow: 2px 2px 4px rgba(0,0,0,0.3); margin-top: 20px; border-left: 5px solid #4a86e8; padding-left: 10px;\">a. Linear Regression</h3>"
   ]
  },
  {
   "cell_type": "code",
   "execution_count": 12,
   "id": "66fe3f8b",
   "metadata": {},
   "outputs": [],
   "source": [
    "X = df.drop('survived', axis=1)\n",
    "Y = df['survived']"
   ]
  },
  {
   "cell_type": "code",
   "execution_count": 13,
   "id": "e1f3d578",
   "metadata": {},
   "outputs": [],
   "source": [
    "x_train, x_test, y_train, y_test = train_test_split(X, Y)"
   ]
  },
  {
   "cell_type": "code",
   "execution_count": 14,
   "id": "03f9bef7",
   "metadata": {},
   "outputs": [
    {
     "name": "stdout",
     "output_type": "stream",
     "text": [
      "0.1441547608452231\n"
     ]
    }
   ],
   "source": [
    "model = LinearRegression()\n",
    "model.fit(x_train, y_train)\n",
    "y_pred = model.predict(x_test)\n",
    "MSE_linear = mean_squared_error(y_test, y_pred)\n",
    "print(MSE_linear)"
   ]
  },
  {
   "cell_type": "code",
   "execution_count": 15,
   "id": "b385e38b",
   "metadata": {},
   "outputs": [
    {
     "name": "stdout",
     "output_type": "stream",
     "text": [
      "[[ 3.    1.   39.    0.    0.   24.15  1.    0.    0.    1.  ]]\n"
     ]
    }
   ],
   "source": [
    "test = np.array([3, 1, 39.0, 0, 0, 24.150, 1, 0, 0, 1]).reshape(1,-1)\n",
    "print(test)"
   ]
  },
  {
   "cell_type": "code",
   "execution_count": 16,
   "id": "74e9027d",
   "metadata": {},
   "outputs": [
    {
     "name": "stdout",
     "output_type": "stream",
     "text": [
      "0\n"
     ]
    }
   ],
   "source": [
    "a = model.predict(test)\n",
    "print(round(a[0]))"
   ]
  },
  {
   "cell_type": "markdown",
   "id": "a9134b37",
   "metadata": {},
   "source": [
    "<h3 style=\"color: #4a86e8; font-size: 28px; font-family: 'Georgia', serif; text-shadow: 2px 2px 4px rgba(0,0,0,0.3); margin-top: 20px; border-left: 5px solid #4a86e8; padding-left: 10px;\">b. Decision Tree</h3>"
   ]
  },
  {
   "cell_type": "code",
   "execution_count": 17,
   "id": "241c1dd3",
   "metadata": {},
   "outputs": [
    {
     "name": "stdout",
     "output_type": "stream",
     "text": [
      "0.21769662921348315\n"
     ]
    }
   ],
   "source": [
    "from sklearn.tree import DecisionTreeRegressor\n",
    "\n",
    "model = DecisionTreeRegressor()\n",
    "model.fit(x_train, y_train)\n",
    "y_pred = model.predict(x_test)\n",
    "MSE_linear = mean_squared_error(y_test, y_pred)\n",
    "print(MSE_linear)"
   ]
  },
  {
   "cell_type": "markdown",
   "id": "771de670",
   "metadata": {},
   "source": [
    "<h3 style=\"color: #4a86e8; font-size: 28px; font-family: 'Georgia', serif; text-shadow: 2px 2px 4px rgba(0,0,0,0.3); margin-top: 20px; border-left: 5px solid #4a86e8; padding-left: 10px;\">c. Logistic Regression</h3>"
   ]
  },
  {
   "cell_type": "code",
   "execution_count": 20,
   "id": "9aa40fac",
   "metadata": {},
   "outputs": [
    {
     "name": "stdout",
     "output_type": "stream",
     "text": [
      "Accuracy: 0.7902097902097902\n"
     ]
    },
    {
     "name": "stderr",
     "output_type": "stream",
     "text": [
      "C:\\Users\\hp\\anaconda3\\lib\\site-packages\\sklearn\\linear_model\\_logistic.py:763: ConvergenceWarning: lbfgs failed to converge (status=1):\n",
      "STOP: TOTAL NO. of ITERATIONS REACHED LIMIT.\n",
      "\n",
      "Increase the number of iterations (max_iter) or scale the data as shown in:\n",
      "    https://scikit-learn.org/stable/modules/preprocessing.html\n",
      "Please also refer to the documentation for alternative solver options:\n",
      "    https://scikit-learn.org/stable/modules/linear_model.html#logistic-regression\n",
      "  n_iter_i = _check_optimize_result(\n"
     ]
    }
   ],
   "source": [
    "X = df.drop('survived', axis=1)\n",
    "y = df['survived']\n",
    "\n",
    "# Diviser le dataset en train set et test set\n",
    "X_train, X_test, y_train, y_test = train_test_split(X, y, test_size=0.2, random_state=42)\n",
    "\n",
    "# Entraîner le modèle de régression logistique\n",
    "model = LogisticRegression()\n",
    "model.fit(X_train, y_train)\n",
    "\n",
    "# Faire des prédictions sur le test set\n",
    "y_pred = model.predict(X_test)\n",
    "\n",
    "# Évaluer les performances du modèle\n",
    "accuracy = accuracy_score(y_test, y_pred)\n",
    "print(\"Accuracy:\", accuracy)"
   ]
  },
  {
   "cell_type": "markdown",
   "id": "c7561028",
   "metadata": {},
   "source": [
    "Q2: Generate a consensus prediction by averaging outputs from the group's models, using tools like ngrok for \n",
    "inter-computer connectivity. Assess the performance of this aggregated meta-model.\n",
    "\n",
    "This stage illustrates the creation of a distributed prediction system in a trusted environment. \n",
    "The next step involves opening the model to external contributions, which may come from both benign \n",
    "and malicious actors."
   ]
  },
  {
   "cell_type": "code",
   "execution_count": null,
   "id": "22a00709",
   "metadata": {},
   "outputs": [],
   "source": []
  },
  {
   "cell_type": "markdown",
   "id": "17b897a1",
   "metadata": {},
   "source": [
    "Introducing Consensus with Slashing Mechanism\n",
    "\n",
    "Q3: Introduce a weighting system to refine the meta-model's predictions. Weights, ranging from 0 to 1, are \n",
    "adjusted with each prediction batch to reflect the accuracy of individual models relative to the group consensus."
   ]
  },
  {
   "cell_type": "code",
   "execution_count": null,
   "id": "e16118a7",
   "metadata": {},
   "outputs": [],
   "source": []
  },
  {
   "cell_type": "markdown",
   "id": "b8b6e8d9",
   "metadata": {},
   "source": [
    "Q4: Implement a proof-of-stake consensus mechanism with a slashing protocol. Models must make an initial deposit \n",
    "(e.g., 1000 euros) upon registration to participate. This deposit serves as a security measure, ensuring \n",
    "participants' commitment to the network's integrity.\n",
    "\n",
    "Implement penalties (slashing) for actions that undermine network accuracy or trustworthiness. For example, \n",
    "consistently inaccurate predictions may result in a loss of deposit. This protocol discourages adverse behaviors \n",
    "while encouraging contributions of accurate, reliable predictions. Adjust model weights based on performance and \n",
    "penalties, promoting a merit-based system that rewards accuracy and penalizes dishonesty or inaccuracy. Incorporating \n",
    "a slashing mechanism enhances the network's reliability and accountability, ensuring that contributions are both \n",
    "accurate and made in good faith, thus maintaining the integrity and effectiveness of the decentralized prediction \n",
    "system.\n",
    "\n",
    "To simplify the implementation asume that balance and slashing are done locally. \n",
    "Create a Json Database were you track model balance."
   ]
  },
  {
   "cell_type": "code",
   "execution_count": 26,
   "id": "f7262a58",
   "metadata": {},
   "outputs": [],
   "source": [
    "from flask import Flask, request"
   ]
  },
  {
   "cell_type": "code",
   "execution_count": 88,
   "id": "2cadb0cd",
   "metadata": {},
   "outputs": [
    {
     "name": "stdout",
     "output_type": "stream",
     "text": [
      " * Serving Flask app \"__main__\" (lazy loading)\n",
      " * Environment: production\n",
      "\u001b[31m   WARNING: This is a development server. Do not use it in a production deployment.\u001b[0m\n",
      "\u001b[2m   Use a production WSGI server instead.\u001b[0m\n",
      " * Debug mode: off\n"
     ]
    },
    {
     "name": "stderr",
     "output_type": "stream",
     "text": [
      " * Running on all addresses.\n",
      "   WARNING: This is a development server. Do not use it in a production deployment.\n",
      " * Running on http://10.1.181.28:8080/ (Press CTRL+C to quit)\n",
      "C:\\Users\\etien\\anaconda3\\lib\\site-packages\\sklearn\\base.py:465: UserWarning: X does not have valid feature names, but LinearRegression was fitted with feature names\n",
      "  warnings.warn(\n",
      "127.0.0.1 - - [26/Feb/2024 16:47:14] \"GET /predict?pclass=1&sex=1&age=12.2&sibsp=1&parch=1&fare=10.1&alone=0&port=C HTTP/1.1\" 200 -\n"
     ]
    }
   ],
   "source": [
    "app = Flask(__name__)\n",
    "\n",
    "@app.route('/')\n",
    "def hello_world():\n",
    "    return 'Hello, World!'\n",
    "\n",
    "@app.route('/predict', methods=['GET'])\n",
    "def get_predict():\n",
    "    d = request.args.to_dict()\n",
    "    l = list(d.values())[:-1]\n",
    "    for i in range(len(l)):\n",
    "        if i==2 or i==5:\n",
    "            l[i] = float(l[i])\n",
    "        else:\n",
    "            l[i]=int(l[i])\n",
    "    if d['port']=='C':\n",
    "        l.extend([1,0,0])\n",
    "    elif d['port']=='Q':\n",
    "        l.extend([0,1,0])\n",
    "    else:\n",
    "        l.extend([0,0,1])\n",
    "    arr = np.array(l).reshape(1,-1)\n",
    "    \n",
    "    return f\"{model.predict(arr)[0]}\"\n",
    "    \"\"\"\n",
    "    survived int64  pclass int64  sex int64  age float64 sibsp int64  parch int64  fare float64 alone int64  C  uint8  Q uint8  S uint8  \n",
    "    \"\"\"\n",
    "app.run(host=\"0.0.0.0\", port=8080)\n",
    "\n",
    "#pclass sex age sibsp parch fare alone C Q S\n",
    "#http://localhost:8080/predict?pclass=1&sex=1&age=12.2&sibsp=1&parch=1&fare=10.1&alone=0&port=C\n",
    "#{'pclass':1, 'sex':1, 'age':12.2, 'sibsp':1, 'parch':1, 'fare':10.1, 'alone':0, 'port':'C Q S'}"
   ]
  },
  {
   "cell_type": "code",
   "execution_count": 30,
   "id": "3f0cc30b",
   "metadata": {},
   "outputs": [
    {
     "name": "stdout",
     "output_type": "stream",
     "text": [
      "{\"survived\": 1, \"pclass\": 1, \"sex\": 1, \"age\": 12.2, \"sibsp\": 1, \"parch\": 1, \"fare\": 10.1, \"alone\": 0, \"port\": \"C Q S\"}\n"
     ]
    }
   ],
   "source": [
    "a=\"{'survived': 1, 'pclass': 1, 'sex': 1, 'age': 12.2, 'sibsp': 1, 'parch': 1, 'fare': 10.1, 'alone': 0, 'port': 'C Q S'}\"\n",
    "print(a.replace(\"'\",'\"'))"
   ]
  },
  {
   "cell_type": "code",
   "execution_count": 37,
   "id": "94667235",
   "metadata": {},
   "outputs": [
    {
     "name": "stdout",
     "output_type": "stream",
     "text": [
      "survived=1&pclass=1&sex=1&age=12.2&sibsp=1&parch=1&fare=10.1&alone=0&port=C Q S&"
     ]
    }
   ],
   "source": [
    "for a,b in {\"survived\": 1, \"pclass\": 1, \"sex\": 1, \"age\": 12.2, \"sibsp\": 1, \"parch\": 1, \"fare\": 10.1, \"alone\": 0, \"port\": \"C Q S\"}.items():\n",
    "    print(f\"{a}={b}&\",end=\"\")"
   ]
  },
  {
   "cell_type": "code",
   "execution_count": 86,
   "id": "e88d9dc5",
   "metadata": {},
   "outputs": [
    {
     "name": "stdout",
     "output_type": "stream",
     "text": [
      "[[ 1.   1.  12.2  1.   1.  10.1  0.   1.   0.   0. ]]\n",
      "[[ 3.   1.  39.   0.   0.  24.15 1.   0.   0.   1. ]]\n",
      "[0.57152357]\n"
     ]
    },
    {
     "name": "stderr",
     "output_type": "stream",
     "text": [
      "C:\\Users\\etien\\anaconda3\\lib\\site-packages\\sklearn\\base.py:465: UserWarning: X does not have valid feature names, but LinearRegression was fitted with feature names\n",
      "  warnings.warn(\n"
     ]
    }
   ],
   "source": [
    "    d = {\"pclass\": 1, \"sex\": 1, \"age\": 12.2, \"sibsp\": 1, \"parch\": 1, \"fare\": 10.1, \"alone\": 0, \"port\": \"C\"}\n",
    "    l = list(d.values())[:-1]\n",
    "    for i in range(len(l)):\n",
    "        if i==2 or i==5:\n",
    "            l[i] = float(l[i])\n",
    "        else:\n",
    "            l[i]=int(l[i])\n",
    "    if d['port']=='C':\n",
    "        l.extend([1,0,0])\n",
    "    elif d['port']=='Q':\n",
    "        l.extend([0,1,0])\n",
    "    else:\n",
    "        l.extend([0,0,1])\n",
    "    arr = np.array(l).reshape(1,-1)\n",
    "    print(arr)\n",
    "    print(\"[[ 3.   1.  39.   0.   0.  24.15 1.   0.   0.   1. ]]\")\n",
    "    print(model.predict(arr))"
   ]
  },
  {
   "cell_type": "code",
   "execution_count": null,
   "id": "f3cd91b4",
   "metadata": {},
   "outputs": [],
   "source": []
  }
 ],
 "metadata": {
  "kernelspec": {
   "display_name": "Python 3 (ipykernel)",
   "language": "python",
   "name": "python3"
  },
  "language_info": {
   "codemirror_mode": {
    "name": "ipython",
    "version": 3
   },
   "file_extension": ".py",
   "mimetype": "text/x-python",
   "name": "python",
   "nbconvert_exporter": "python",
   "pygments_lexer": "ipython3",
   "version": "3.9.7"
  }
 },
 "nbformat": 4,
 "nbformat_minor": 5
}
